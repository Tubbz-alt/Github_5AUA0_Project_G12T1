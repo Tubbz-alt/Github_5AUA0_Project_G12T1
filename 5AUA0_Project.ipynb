{
  "nbformat": 4,
  "nbformat_minor": 0,
  "metadata": {
    "colab": {
      "name": "5AUA0_Project.ipynb",
      "provenance": [],
      "collapsed_sections": [
        "efmYI6dheXaV",
        "Q_kXso6Xd7CH",
        "O0Ija-IoemnV",
        "lXXWsAgFfhxw"
      ]
    },
    "kernelspec": {
      "name": "python3",
      "display_name": "Python 3"
    }
  },
  "cells": [
    {
      "cell_type": "markdown",
      "metadata": {
        "id": "IJ8DecDfgjS1",
        "colab_type": "text"
      },
      "source": [
        "# Mount Google Drive\n",
        "Add a shortcut from the shared folder \"5AUA0_Project_Group12_Team1\" to your own drive.\n",
        "\n",
        "Run the next cell to start working on the project!"
      ]
    },
    {
      "cell_type": "code",
      "metadata": {
        "id": "Wt5M6wrAqZCD",
        "colab_type": "code",
        "outputId": "407ec5e4-fddc-45b2-dd62-70bca5611c09",
        "colab": {
          "base_uri": "https://localhost:8080/",
          "height": 53
        }
      },
      "source": [
        "# Add a shortcut from the shared folder to your own drive\n",
        "# Mount Google Drive\n",
        "from google.colab import drive\n",
        "drive.mount('/content/gdrive')"
      ],
      "execution_count": 12,
      "outputs": [
        {
          "output_type": "stream",
          "text": [
            "Drive already mounted at /content/gdrive; to attempt to forcibly remount, call drive.mount(\"/content/gdrive\", force_remount=True).\n"
          ],
          "name": "stdout"
        }
      ]
    },
    {
      "cell_type": "markdown",
      "metadata": {
        "id": "efmYI6dheXaV",
        "colab_type": "text"
      },
      "source": [
        "# Clone GitHub repo\n",
        "Run the next two cells to clone the GitHub repo. This has now already been done, so should not be necessary to do it again."
      ]
    },
    {
      "cell_type": "code",
      "metadata": {
        "id": "F3H0NqyzuciM",
        "colab_type": "code",
        "colab": {
          "base_uri": "https://localhost:8080/",
          "height": 33
        },
        "outputId": "9acfdcf8-e207-4b4b-89c0-06ffcfa9c6d5"
      },
      "source": [
        "!pwd"
      ],
      "execution_count": 31,
      "outputs": [
        {
          "output_type": "stream",
          "text": [
            "/content\n"
          ],
          "name": "stdout"
        }
      ]
    },
    {
      "cell_type": "code",
      "metadata": {
        "id": "1d7bvEp_cGQJ",
        "colab_type": "code",
        "colab": {
          "base_uri": "https://localhost:8080/",
          "height": 33
        },
        "outputId": "0332ecc6-fa42-4840-ef4d-014b98570644"
      },
      "source": [
        "# Go to the base folder in Google Drive\n",
        "%cd /content/gdrive/My\\ Drive/5AUA0_Project_Group12_Team1"
      ],
      "execution_count": 32,
      "outputs": [
        {
          "output_type": "stream",
          "text": [
            "/content/gdrive/My Drive/5AUA0_Project_Group12_Team1\n"
          ],
          "name": "stdout"
        }
      ]
    },
    {
      "cell_type": "code",
      "metadata": {
        "colab_type": "code",
        "id": "iBBREoa6Bat1",
        "colab": {
          "base_uri": "https://localhost:8080/",
          "height": 147
        },
        "outputId": "8929ffc8-9f75-4c82-9020-f90ebedd19cd"
      },
      "source": [
        "# Clone the GitHub repo \"Github_5AUA0_Project_G12T1\"\n",
        "# Only have to do this ones!\n",
        "!git clone https://github.com/nadinenijssen/Github_5AUA0_Project_G12T1"
      ],
      "execution_count": 6,
      "outputs": [
        {
          "output_type": "stream",
          "text": [
            "Cloning into 'Github_5AUA0_Project_G12T1'...\n",
            "remote: Enumerating objects: 184, done.\u001b[K\n",
            "remote: Counting objects: 100% (184/184), done.\u001b[K\n",
            "remote: Compressing objects: 100% (145/145), done.\u001b[K\n",
            "remote: Total 184 (delta 32), reused 165 (delta 27), pack-reused 0\u001b[K\n",
            "Receiving objects: 100% (184/184), 43.55 MiB | 12.69 MiB/s, done.\n",
            "Resolving deltas: 100% (32/32), done.\n",
            "Checking out files: 100% (125/125), done.\n"
          ],
          "name": "stdout"
        }
      ]
    },
    {
      "cell_type": "markdown",
      "metadata": {
        "id": "Q_kXso6Xd7CH",
        "colab_type": "text"
      },
      "source": [
        "# Pull changes from GitHub repo\n",
        "Run the next to cells before working on the project to sync the Google Drive folder with the GitHub repo."
      ]
    },
    {
      "cell_type": "code",
      "metadata": {
        "id": "e7LY9KW1bnQH",
        "colab_type": "code",
        "outputId": "8eb0327a-c8d7-4680-82dc-8f7fa19220b8",
        "colab": {
          "base_uri": "https://localhost:8080/",
          "height": 33
        }
      },
      "source": [
        "# Go to the cloned repo folder\n",
        "%cd /content/gdrive/My\\ Drive/5AUA0_Project_Group12_Team1/Github_5AUA0_Project_G12T1"
      ],
      "execution_count": 33,
      "outputs": [
        {
          "output_type": "stream",
          "text": [
            "/content/gdrive/My Drive/5AUA0_Project_Group12_Team1/Github_5AUA0_Project_G12T1\n"
          ],
          "name": "stdout"
        }
      ]
    },
    {
      "cell_type": "code",
      "metadata": {
        "colab_type": "code",
        "outputId": "dde433ad-3237-4136-c06a-132686d8525f",
        "id": "aV8S9ha_BZVS",
        "colab": {
          "base_uri": "https://localhost:8080/",
          "height": 228
        },
        "cellView": "code"
      },
      "source": [
        "# git pull all changes that we made to the repo\n",
        "!git pull"
      ],
      "execution_count": 22,
      "outputs": [
        {
          "output_type": "stream",
          "text": [
            "remote: Enumerating objects: 8, done.\u001b[K\n",
            "remote: Counting objects:  12% (1/8)\u001b[K\rremote: Counting objects:  25% (2/8)\u001b[K\rremote: Counting objects:  37% (3/8)\u001b[K\rremote: Counting objects:  50% (4/8)\u001b[K\rremote: Counting objects:  62% (5/8)\u001b[K\rremote: Counting objects:  75% (6/8)\u001b[K\rremote: Counting objects:  87% (7/8)\u001b[K\rremote: Counting objects: 100% (8/8)\u001b[K\rremote: Counting objects: 100% (8/8), done.\u001b[K\n",
            "remote: Compressing objects:  16% (1/6)\u001b[K\rremote: Compressing objects:  33% (2/6)\u001b[K\rremote: Compressing objects:  50% (3/6)\u001b[K\rremote: Compressing objects:  66% (4/6)\u001b[K\rremote: Compressing objects:  83% (5/6)\u001b[K\rremote: Compressing objects: 100% (6/6)\u001b[K\rremote: Compressing objects: 100% (6/6), done.\u001b[K\n",
            "remote: Total 6 (delta 0), reused 0 (delta 0), pack-reused 0\u001b[K\n",
            "Unpacking objects:  16% (1/6)   \rUnpacking objects:  33% (2/6)   \rUnpacking objects:  50% (3/6)   \rUnpacking objects:  66% (4/6)   \rUnpacking objects:  83% (5/6)   \rUnpacking objects: 100% (6/6)   \rUnpacking objects: 100% (6/6), done.\n",
            "From https://github.com/nadinenijssen/Github_5AUA0_Project_G12T1\n",
            "   bf6d524..912b898  master     -> origin/master\n",
            "Updating bf6d524..912b898\n",
            "Fast-forward\n",
            " 5AUA0_Project.ipynb | 921 \u001b[32m++++++++++++++++++++++++++++++++++++++++++++++++++++\u001b[m\n",
            " README.md           |  25 \u001b[32m+\u001b[m\u001b[31m-\u001b[m\n",
            " 2 files changed, 944 insertions(+), 2 deletions(-)\n",
            " create mode 100644 5AUA0_Project.ipynb\n"
          ],
          "name": "stdout"
        }
      ]
    },
    {
      "cell_type": "markdown",
      "metadata": {
        "id": "O0Ija-IoemnV",
        "colab_type": "text"
      },
      "source": [
        "# Demo with DLA-34 baseline model\n",
        "### *Works with \"Demo_test\" folder on Google Drive*\n",
        "The next cells show the steps to run the demo.py from FairMOT with the DLA-34 baseline model.\n",
        "\n",
        "Make sure to first uncomment lines with 'dcn' in src/libs/models/model.py (6 lines at the top)\n",
        "\n",
        "(This does not work at the moment!) "
      ]
    },
    {
      "cell_type": "code",
      "metadata": {
        "id": "silzgrQwkzHE",
        "colab_type": "code",
        "outputId": "9db3a591-9c96-42c4-98af-742636165a40",
        "colab": {
          "base_uri": "https://localhost:8080/",
          "height": 86
        }
      },
      "source": [
        "# FairMOT demo.py with DLA-34 baseline model:\n",
        "\n",
        "# make sure to have the right versions: torch 1.4.0 and torchvision 0.5.0 (and for cuda)\n",
        "# check versions\n",
        "import torch\n",
        "import torchvision\n",
        "\n",
        "print(\"PyTorch version: \")\n",
        "print(torch.__version__)\n",
        "print(\"PyTorchvision version: \")\n",
        "print(torchvision.__version__)"
      ],
      "execution_count": 0,
      "outputs": [
        {
          "output_type": "stream",
          "text": [
            "PyTorch version: \n",
            "1.5.0+cu101\n",
            "PyTorchvision version: \n",
            "0.6.0+cu101\n"
          ],
          "name": "stdout"
        }
      ]
    },
    {
      "cell_type": "code",
      "metadata": {
        "id": "2c4AOkdok__O",
        "colab_type": "code",
        "outputId": "9fe2c9cf-8291-486d-da39-76b27912ac2a",
        "colab": {
          "base_uri": "https://localhost:8080/",
          "height": 419
        }
      },
      "source": [
        "# FairMOT demo.py with DLA-34 baseline model:\n",
        "\n",
        "# If wrong versions\n",
        "# install the right ones\n",
        "! pip install torch==1.4.0+cu92 torchvision==0.5.0+cu92 -f https://download.pytorch.org/whl/torch_stable.html\n",
        "# restart runtime when required"
      ],
      "execution_count": 0,
      "outputs": [
        {
          "output_type": "stream",
          "text": [
            "Looking in links: https://download.pytorch.org/whl/torch_stable.html\n",
            "Collecting torch==1.4.0+cu92\n",
            "\u001b[?25l  Downloading https://download.pytorch.org/whl/cu92/torch-1.4.0%2Bcu92-cp36-cp36m-linux_x86_64.whl (640.5MB)\n",
            "\u001b[K     |████████████████████████████████| 640.6MB 30kB/s \n",
            "\u001b[?25hCollecting torchvision==0.5.0+cu92\n",
            "\u001b[?25l  Downloading https://download.pytorch.org/whl/cu92/torchvision-0.5.0%2Bcu92-cp36-cp36m-linux_x86_64.whl (3.9MB)\n",
            "\u001b[K     |████████████████████████████████| 4.0MB 37.7MB/s \n",
            "\u001b[?25hRequirement already satisfied: six in /usr/local/lib/python3.6/dist-packages (from torchvision==0.5.0+cu92) (1.12.0)\n",
            "Requirement already satisfied: numpy in /usr/local/lib/python3.6/dist-packages (from torchvision==0.5.0+cu92) (1.18.4)\n",
            "Requirement already satisfied: pillow>=4.1.1 in /usr/local/lib/python3.6/dist-packages (from torchvision==0.5.0+cu92) (7.0.0)\n",
            "Installing collected packages: torch, torchvision\n",
            "  Found existing installation: torch 1.5.0+cu101\n",
            "    Uninstalling torch-1.5.0+cu101:\n",
            "      Successfully uninstalled torch-1.5.0+cu101\n",
            "  Found existing installation: torchvision 0.6.0+cu101\n",
            "    Uninstalling torchvision-0.6.0+cu101:\n",
            "      Successfully uninstalled torchvision-0.6.0+cu101\n",
            "Successfully installed torch-1.4.0+cu92 torchvision-0.5.0+cu92\n"
          ],
          "name": "stdout"
        },
        {
          "output_type": "display_data",
          "data": {
            "application/vnd.colab-display-data+json": {
              "pip_warning": {
                "packages": [
                  "torch",
                  "torchvision"
                ]
              }
            }
          },
          "metadata": {
            "tags": []
          }
        }
      ]
    },
    {
      "cell_type": "code",
      "metadata": {
        "id": "pPpjSeiilGMm",
        "colab_type": "code",
        "outputId": "1685217d-155e-4aaf-85ad-a007e6ba7977",
        "colab": {
          "base_uri": "https://localhost:8080/",
          "height": 86
        }
      },
      "source": [
        "# FairMOT demo.py with DLA-34 baseline model:\n",
        "\n",
        "# check versions again to see if everything went well\n",
        "# want torch 1.4.0 and torchvision 0.5.0 (and for cuda)\n",
        "import torch\n",
        "import torchvision\n",
        "\n",
        "print(\"PyTorch version: \")\n",
        "print(torch.__version__)\n",
        "print(\"PyTorchvision version: \")\n",
        "print(torchvision.__version__)"
      ],
      "execution_count": 0,
      "outputs": [
        {
          "output_type": "stream",
          "text": [
            "PyTorch version: \n",
            "1.4.0+cu92\n",
            "PyTorchvision version: \n",
            "0.5.0+cu92\n"
          ],
          "name": "stdout"
        }
      ]
    },
    {
      "cell_type": "code",
      "metadata": {
        "id": "R6mlYYq8fCUf",
        "colab_type": "code",
        "colab": {}
      },
      "source": [
        "# FairMOT demo.py with DLA-34 baseline model:\n",
        "\n",
        "# Install other requirements\n",
        "# first change to the right folder\n",
        "import os\n",
        "os.chdir('/content/gdrive/My Drive/5AUA0_Project_Group12_Team1/Demo_test/FairMOT')\n",
        "%pwd # print current location"
      ],
      "execution_count": 0,
      "outputs": []
    },
    {
      "cell_type": "code",
      "metadata": {
        "id": "79IYo-1QfGpF",
        "colab_type": "code",
        "colab": {}
      },
      "source": [
        "# FairMOT demo.py with DLA-34 baseline model:\n",
        "\n",
        "# then install requirements\n",
        "!pip install -r requirements.txt\n",
        "# restart runtime when required"
      ],
      "execution_count": 0,
      "outputs": []
    },
    {
      "cell_type": "code",
      "metadata": {
        "id": "sF3jBZXwv0T_",
        "colab_type": "code",
        "outputId": "021d48dc-90c2-4995-8938-e5edebbdb05a",
        "colab": {
          "base_uri": "https://localhost:8080/",
          "height": 34
        }
      },
      "source": [
        "# FairMOT demo.py with DLA-34 baseline model:\n",
        "\n",
        "# need to run \"sh make.sh\"\n",
        "# first change to the right folder\n",
        "os.chdir('/content/gdrive/My Drive/5AUA0_Project_Group12_Team1/Demo_test/FairMOT/src/lib/models/networks/DCNv2')\n",
        "%pwd # print current location"
      ],
      "execution_count": 0,
      "outputs": [
        {
          "output_type": "execute_result",
          "data": {
            "text/plain": [
              "'/content/gdrive/.shortcut-targets-by-id/10m49XUykzV-lqWDft1-stDmLxt5dixAS/5AUA0_Project_Group12_Team1/Github_Nadine_test/FairMOT/src/lib/models/networks/DCNv2'"
            ]
          },
          "metadata": {
            "tags": []
          },
          "execution_count": 6
        }
      ]
    },
    {
      "cell_type": "code",
      "metadata": {
        "id": "dVWBmFvAwrZb",
        "colab_type": "code",
        "outputId": "7a28021d-d912-4ee4-a556-4f805807f97b",
        "colab": {
          "base_uri": "https://localhost:8080/",
          "height": 295
        }
      },
      "source": [
        "# FairMOT demo.py with DLA-34 baseline model:\n",
        "\n",
        "# then run \"sh make.sh\"\n",
        "!sh make.sh"
      ],
      "execution_count": 0,
      "outputs": [
        {
          "output_type": "stream",
          "text": [
            "running build\n",
            "running build_ext\n",
            "running develop\n",
            "running egg_info\n",
            "writing DCNv2.egg-info/PKG-INFO\n",
            "writing dependency_links to DCNv2.egg-info/dependency_links.txt\n",
            "writing top-level names to DCNv2.egg-info/top_level.txt\n",
            "writing manifest file 'DCNv2.egg-info/SOURCES.txt'\n",
            "running build_ext\n",
            "copying build/lib.linux-x86_64-3.6/_ext.cpython-36m-x86_64-linux-gnu.so -> \n",
            "Creating /usr/local/lib/python3.6/dist-packages/DCNv2.egg-link (link to .)\n",
            "Adding DCNv2 0.1 to easy-install.pth file\n",
            "\n",
            "Installed /content/gdrive/.shortcut-targets-by-id/10m49XUykzV-lqWDft1-stDmLxt5dixAS/5AUA0_Project_Group12_Team1/Github_Nadine_test/FairMOT/src/lib/models/networks/DCNv2\n",
            "Processing dependencies for DCNv2==0.1\n",
            "Finished processing dependencies for DCNv2==0.1\n"
          ],
          "name": "stdout"
        }
      ]
    },
    {
      "cell_type": "code",
      "metadata": {
        "id": "-OWATpMQ8YCc",
        "colab_type": "code",
        "outputId": "73c86b55-307b-4727-f2e7-9608e623a4e4",
        "colab": {
          "base_uri": "https://localhost:8080/",
          "height": 34
        }
      },
      "source": [
        "# FairMOT demo.py with DLA-34 baseline model:\n",
        "\n",
        "# test if it works\n",
        "!python test.py"
      ],
      "execution_count": 0,
      "outputs": [
        {
          "output_type": "stream",
          "text": [
            "python3: can't open file 'test.py': [Errno 2] No such file or directory\n"
          ],
          "name": "stdout"
        }
      ]
    },
    {
      "cell_type": "code",
      "metadata": {
        "id": "blaXMMj3fQI8",
        "colab_type": "code",
        "colab": {}
      },
      "source": [
        "# FairMOT demo.py with DLA-34 baseline model:\n",
        "\n",
        "# Time to run the demo!\n",
        "# If using the DLA-34 baseline model:\n",
        "# first change to the right folder\n",
        "import os\n",
        "os.chdir('/content/gdrive/My Drive/5AUA0_Project_Group12_Team1/Demo_test/FairMOT/src')\n",
        "!pwd"
      ],
      "execution_count": 0,
      "outputs": []
    },
    {
      "cell_type": "code",
      "metadata": {
        "id": "YD71go0JfS9j",
        "colab_type": "code",
        "colab": {}
      },
      "source": [
        "# FairMOT demo.py with DLA-34 baseline model:\n",
        "\n",
        "# then run the demo\n",
        "# !!!!! uncomment lines with 'dcn' in src/libs/models/model.py (6 lines at the top)\n",
        "!python demo.py mot --load_model ../models/all_dla34.pth --conf_thres 0.4\n"
      ],
      "execution_count": 0,
      "outputs": []
    },
    {
      "cell_type": "markdown",
      "metadata": {
        "id": "lXXWsAgFfhxw",
        "colab_type": "text"
      },
      "source": [
        "# Demo with HRNetV2_w18 baseline model\n",
        "### *Works with \"Demo_test\" folder on Google Drive*\n",
        "The next cells show the steps to run the demo.py from FairMOT with the HRNetV2_w18 baseline model.\n",
        "\n",
        "Make sure to first comment lines with 'dcn' in src/libs/models/model.py (6 lines at the top)"
      ]
    },
    {
      "cell_type": "code",
      "metadata": {
        "id": "ZU1WfeHGleWF",
        "colab_type": "code",
        "outputId": "e5645061-de17-42e0-dce2-26f50ef078e9",
        "colab": {
          "base_uri": "https://localhost:8080/",
          "height": 34
        }
      },
      "source": [
        "# FairMOT demo.py with HRNetV2_w18 baseline model:\n",
        "\n",
        "# Install other requirements\n",
        "# first change to the right folder\n",
        "import os\n",
        "os.chdir('/content/gdrive/My Drive/5AUA0_Project_Group12_Team1/Demo_test/FairMOT')\n",
        "%pwd # print current location"
      ],
      "execution_count": 0,
      "outputs": [
        {
          "output_type": "execute_result",
          "data": {
            "text/plain": [
              "'/content/gdrive/.shortcut-targets-by-id/10m49XUykzV-lqWDft1-stDmLxt5dixAS/5AUA0_Project_Group12_Team1/Github_Nadine_test/FairMOT'"
            ]
          },
          "metadata": {
            "tags": []
          },
          "execution_count": 4
        }
      ]
    },
    {
      "cell_type": "code",
      "metadata": {
        "id": "ujca0hCzqc8g",
        "colab_type": "code",
        "outputId": "2eb86287-7e78-45f8-ef17-cfc03521b80b",
        "colab": {
          "base_uri": "https://localhost:8080/",
          "height": 1000
        }
      },
      "source": [
        "# FairMOT demo.py with HRNetV2_w18 baseline model:\n",
        "\n",
        "# then install requirements\n",
        "!pip install -r requirements.txt\n",
        "# restart runtime when required"
      ],
      "execution_count": 0,
      "outputs": [
        {
          "output_type": "stream",
          "text": [
            "Collecting yacs\n",
            "  Downloading https://files.pythonhosted.org/packages/81/3b/40e876afde9f5ffa1cfdce10565aba85b0dc2e067ed551dfb566cfee6d4d/yacs-0.1.7-py3-none-any.whl\n",
            "Requirement already satisfied: opencv-python in /usr/local/lib/python3.6/dist-packages (from -r requirements.txt (line 2)) (4.1.2.30)\n",
            "Collecting cython-bbox\n",
            "\u001b[?25l  Downloading https://files.pythonhosted.org/packages/fa/b9/fc7d60e8c3b29cc0ff24a3bb3c4b7457e10b7610fbb2893741b623487b34/cython_bbox-0.1.3.tar.gz (41kB)\n",
            "\u001b[K     |████████████████████████████████| 51kB 3.3MB/s \n",
            "\u001b[?25hRequirement already satisfied: scipy in /usr/local/lib/python3.6/dist-packages (from -r requirements.txt (line 4)) (1.4.1)\n",
            "Requirement already satisfied: numba in /usr/local/lib/python3.6/dist-packages (from -r requirements.txt (line 5)) (0.48.0)\n",
            "Collecting progress\n",
            "  Downloading https://files.pythonhosted.org/packages/38/ef/2e887b3d2b248916fc2121889ce68af8a16aaddbe82f9ae6533c24ff0d2b/progress-1.5.tar.gz\n",
            "Collecting motmetrics\n",
            "\u001b[?25l  Downloading https://files.pythonhosted.org/packages/9c/28/9c3bc8e2a87f4c9e7b04ab72856ec7f9895a66681a65973ffaf9562ef879/motmetrics-1.2.0-py3-none-any.whl (151kB)\n",
            "\u001b[K     |████████████████████████████████| 153kB 8.1MB/s \n",
            "\u001b[?25hRequirement already satisfied: matplotlib in /usr/local/lib/python3.6/dist-packages (from -r requirements.txt (line 9)) (3.2.1)\n",
            "Collecting lap\n",
            "\u001b[?25l  Downloading https://files.pythonhosted.org/packages/bf/64/d9fb6a75b15e783952b2fec6970f033462e67db32dc43dfbb404c14e91c2/lap-0.4.0.tar.gz (1.5MB)\n",
            "\u001b[K     |████████████████████████████████| 1.5MB 19.7MB/s \n",
            "\u001b[?25hRequirement already satisfied: openpyxl in /usr/local/lib/python3.6/dist-packages (from -r requirements.txt (line 11)) (2.5.9)\n",
            "Collecting Pillow==6.2.2\n",
            "\u001b[?25l  Downloading https://files.pythonhosted.org/packages/8a/fd/bbbc569f98f47813c50a116b539d97b3b17a86ac7a309f83b2022d26caf2/Pillow-6.2.2-cp36-cp36m-manylinux1_x86_64.whl (2.1MB)\n",
            "\u001b[K     |████████████████████████████████| 2.1MB 39.7MB/s \n",
            "\u001b[?25hCollecting tensorboardX\n",
            "\u001b[?25l  Downloading https://files.pythonhosted.org/packages/35/f1/5843425495765c8c2dd0784a851a93ef204d314fc87bcc2bbb9f662a3ad1/tensorboardX-2.0-py2.py3-none-any.whl (195kB)\n",
            "\u001b[K     |████████████████████████████████| 204kB 37.0MB/s \n",
            "\u001b[?25hRequirement already satisfied: PyYAML in /usr/local/lib/python3.6/dist-packages (from yacs->-r requirements.txt (line 1)) (3.13)\n",
            "Requirement already satisfied: numpy>=1.11.3 in /usr/local/lib/python3.6/dist-packages (from opencv-python->-r requirements.txt (line 2)) (1.18.4)\n",
            "Requirement already satisfied: llvmlite<0.32.0,>=0.31.0dev0 in /usr/local/lib/python3.6/dist-packages (from numba->-r requirements.txt (line 5)) (0.31.0)\n",
            "Requirement already satisfied: setuptools in /usr/local/lib/python3.6/dist-packages (from numba->-r requirements.txt (line 5)) (46.1.3)\n",
            "Collecting flake8-import-order\n",
            "  Downloading https://files.pythonhosted.org/packages/ab/52/cf2d6e2c505644ca06de2f6f3546f1e4f2b7be34246c9e0757c6048868f9/flake8_import_order-0.18.1-py2.py3-none-any.whl\n",
            "Collecting xmltodict>=0.12.0\n",
            "  Downloading https://files.pythonhosted.org/packages/28/fd/30d5c1d3ac29ce229f6bdc40bbc20b28f716e8b363140c26eff19122d8a5/xmltodict-0.12.0-py2.py3-none-any.whl\n",
            "Requirement already satisfied: pytest in /usr/local/lib/python3.6/dist-packages (from motmetrics->-r requirements.txt (line 7)) (3.6.4)\n",
            "Requirement already satisfied: pandas>=0.23.1 in /usr/local/lib/python3.6/dist-packages (from motmetrics->-r requirements.txt (line 7)) (1.0.3)\n",
            "Collecting flake8\n",
            "\u001b[?25l  Downloading https://files.pythonhosted.org/packages/bf/47/36e51603431e1a5289eb41636199d2c225fcb1ca286e29c02d219c8e6e88/flake8-3.8.1-py2.py3-none-any.whl (72kB)\n",
            "\u001b[K     |████████████████████████████████| 81kB 11.6MB/s \n",
            "\u001b[?25hCollecting pytest-benchmark\n",
            "\u001b[?25l  Downloading https://files.pythonhosted.org/packages/e7/1e/180579ad3bc53fe3181ef3843f0602f4db77f3609e5e5069a0ec194ff213/pytest_benchmark-3.2.3-py2.py3-none-any.whl (49kB)\n",
            "\u001b[K     |████████████████████████████████| 51kB 8.7MB/s \n",
            "\u001b[?25hRequirement already satisfied: pyparsing!=2.0.4,!=2.1.2,!=2.1.6,>=2.0.1 in /usr/local/lib/python3.6/dist-packages (from matplotlib->-r requirements.txt (line 9)) (2.4.7)\n",
            "Requirement already satisfied: python-dateutil>=2.1 in /usr/local/lib/python3.6/dist-packages (from matplotlib->-r requirements.txt (line 9)) (2.8.1)\n",
            "Requirement already satisfied: cycler>=0.10 in /usr/local/lib/python3.6/dist-packages (from matplotlib->-r requirements.txt (line 9)) (0.10.0)\n",
            "Requirement already satisfied: kiwisolver>=1.0.1 in /usr/local/lib/python3.6/dist-packages (from matplotlib->-r requirements.txt (line 9)) (1.2.0)\n",
            "Requirement already satisfied: et-xmlfile in /usr/local/lib/python3.6/dist-packages (from openpyxl->-r requirements.txt (line 11)) (1.0.1)\n",
            "Requirement already satisfied: jdcal in /usr/local/lib/python3.6/dist-packages (from openpyxl->-r requirements.txt (line 11)) (1.4.1)\n",
            "Requirement already satisfied: six in /usr/local/lib/python3.6/dist-packages (from tensorboardX->-r requirements.txt (line 13)) (1.12.0)\n",
            "Requirement already satisfied: protobuf>=3.8.0 in /usr/local/lib/python3.6/dist-packages (from tensorboardX->-r requirements.txt (line 13)) (3.10.0)\n",
            "Collecting pycodestyle\n",
            "\u001b[?25l  Downloading https://files.pythonhosted.org/packages/10/5b/88879fb861ab79aef45c7e199cae3ef7af487b5603dcb363517a50602dd7/pycodestyle-2.6.0-py2.py3-none-any.whl (41kB)\n",
            "\u001b[K     |████████████████████████████████| 51kB 8.3MB/s \n",
            "\u001b[?25hRequirement already satisfied: pluggy<0.8,>=0.5 in /usr/local/lib/python3.6/dist-packages (from pytest->motmetrics->-r requirements.txt (line 7)) (0.7.1)\n",
            "Requirement already satisfied: py>=1.5.0 in /usr/local/lib/python3.6/dist-packages (from pytest->motmetrics->-r requirements.txt (line 7)) (1.8.1)\n",
            "Requirement already satisfied: more-itertools>=4.0.0 in /usr/local/lib/python3.6/dist-packages (from pytest->motmetrics->-r requirements.txt (line 7)) (8.2.0)\n",
            "Requirement already satisfied: atomicwrites>=1.0 in /usr/local/lib/python3.6/dist-packages (from pytest->motmetrics->-r requirements.txt (line 7)) (1.4.0)\n",
            "Requirement already satisfied: attrs>=17.4.0 in /usr/local/lib/python3.6/dist-packages (from pytest->motmetrics->-r requirements.txt (line 7)) (19.3.0)\n",
            "Requirement already satisfied: pytz>=2017.2 in /usr/local/lib/python3.6/dist-packages (from pandas>=0.23.1->motmetrics->-r requirements.txt (line 7)) (2018.9)\n",
            "Collecting mccabe<0.7.0,>=0.6.0\n",
            "  Downloading https://files.pythonhosted.org/packages/87/89/479dc97e18549e21354893e4ee4ef36db1d237534982482c3681ee6e7b57/mccabe-0.6.1-py2.py3-none-any.whl\n",
            "Collecting pyflakes<2.3.0,>=2.2.0\n",
            "\u001b[?25l  Downloading https://files.pythonhosted.org/packages/69/5b/fd01b0c696f2f9a6d2c839883b642493b431f28fa32b29abc465ef675473/pyflakes-2.2.0-py2.py3-none-any.whl (66kB)\n",
            "\u001b[K     |████████████████████████████████| 71kB 8.9MB/s \n",
            "\u001b[?25hRequirement already satisfied: importlib-metadata; python_version < \"3.8\" in /usr/local/lib/python3.6/dist-packages (from flake8->motmetrics->-r requirements.txt (line 7)) (1.6.0)\n",
            "Collecting py-cpuinfo\n",
            "\u001b[?25l  Downloading https://files.pythonhosted.org/packages/42/60/63f28a5401da733043abe7053e7d9591491b4784c4f87c339bf51215aa0a/py-cpuinfo-5.0.0.tar.gz (82kB)\n",
            "\u001b[K     |████████████████████████████████| 92kB 13.0MB/s \n",
            "\u001b[?25hRequirement already satisfied: zipp>=0.5 in /usr/local/lib/python3.6/dist-packages (from importlib-metadata; python_version < \"3.8\"->flake8->motmetrics->-r requirements.txt (line 7)) (3.1.0)\n",
            "Building wheels for collected packages: cython-bbox, progress, lap, py-cpuinfo\n",
            "  Building wheel for cython-bbox (setup.py) ... \u001b[?25l\u001b[?25hdone\n",
            "  Created wheel for cython-bbox: filename=cython_bbox-0.1.3-cp36-cp36m-linux_x86_64.whl size=57428 sha256=55eb7167ab8c50f0b20fc6a896ad9633d71fdf8cf9009f8cc8433e6b179052c7\n",
            "  Stored in directory: /root/.cache/pip/wheels/2b/31/b5/9246d5988e79ef89dc28b894835d2f305e23c1e5f4f80278ee\n",
            "  Building wheel for progress (setup.py) ... \u001b[?25l\u001b[?25hdone\n",
            "  Created wheel for progress: filename=progress-1.5-cp36-none-any.whl size=8074 sha256=d35da02875cd139ef12e06ae6d2f2938875cfbc6673f31c50db0b4ce1f85eab1\n",
            "  Stored in directory: /root/.cache/pip/wheels/6c/c8/80/32a294e3041f006c661838c05a411c7b7ffc60ff939d14e116\n",
            "  Building wheel for lap (setup.py) ... \u001b[?25l\u001b[?25hdone\n",
            "  Created wheel for lap: filename=lap-0.4.0-cp36-cp36m-linux_x86_64.whl size=1589016 sha256=29ad5f0378d6aba7a724920c402da7b09966fb4b54b492cb8bf0de2e2900b0cb\n",
            "  Stored in directory: /root/.cache/pip/wheels/da/3e/af/eddcd6ffaa27df8d0ddac573758f8953c4e57c64c4c8c8b7d0\n",
            "  Building wheel for py-cpuinfo (setup.py) ... \u001b[?25l\u001b[?25hdone\n",
            "  Created wheel for py-cpuinfo: filename=py_cpuinfo-5.0.0-cp36-none-any.whl size=18684 sha256=6853539bce15373d36992169f34cbd2f8c893fd374b0668b2914c67b4da00d79\n",
            "  Stored in directory: /root/.cache/pip/wheels/01/7e/a9/b982d0fea22b7e4ae5619de949570cde5ad55420cec16e86a5\n",
            "Successfully built cython-bbox progress lap py-cpuinfo\n",
            "\u001b[31mERROR: albumentations 0.1.12 has requirement imgaug<0.2.7,>=0.2.5, but you'll have imgaug 0.2.9 which is incompatible.\u001b[0m\n",
            "\u001b[31mERROR: pytest-benchmark 3.2.3 has requirement pytest>=3.8, but you'll have pytest 3.6.4 which is incompatible.\u001b[0m\n",
            "Installing collected packages: yacs, cython-bbox, progress, pycodestyle, flake8-import-order, xmltodict, mccabe, pyflakes, flake8, py-cpuinfo, pytest-benchmark, motmetrics, lap, Pillow, tensorboardX\n",
            "  Found existing installation: Pillow 7.0.0\n",
            "    Uninstalling Pillow-7.0.0:\n",
            "      Successfully uninstalled Pillow-7.0.0\n",
            "Successfully installed Pillow-6.2.2 cython-bbox-0.1.3 flake8-3.8.1 flake8-import-order-0.18.1 lap-0.4.0 mccabe-0.6.1 motmetrics-1.2.0 progress-1.5 py-cpuinfo-5.0.0 pycodestyle-2.6.0 pyflakes-2.2.0 pytest-benchmark-3.2.3 tensorboardX-2.0 xmltodict-0.12.0 yacs-0.1.7\n"
          ],
          "name": "stdout"
        },
        {
          "output_type": "display_data",
          "data": {
            "application/vnd.colab-display-data+json": {
              "pip_warning": {
                "packages": [
                  "PIL"
                ]
              }
            }
          },
          "metadata": {
            "tags": []
          }
        }
      ]
    },
    {
      "cell_type": "code",
      "metadata": {
        "id": "KoQCPdXC59I8",
        "colab_type": "code",
        "outputId": "b363c140-1db9-45a2-fe12-afcdc97074b7",
        "colab": {
          "base_uri": "https://localhost:8080/",
          "height": 34
        }
      },
      "source": [
        "# FairMOT demo.py with HRNetV2_w18 baseline model:\n",
        "\n",
        "# Time to run the demo!\n",
        "# If using the DLA-34 baseline model:\n",
        "# first change to the right folder\n",
        "import os\n",
        "os.chdir('/content/gdrive/My Drive/5AUA0_Project_Group12_Team1/Demo_test/FairMOT/src')\n",
        "!pwd"
      ],
      "execution_count": 0,
      "outputs": [
        {
          "output_type": "stream",
          "text": [
            "/content/gdrive/.shortcut-targets-by-id/10m49XUykzV-lqWDft1-stDmLxt5dixAS/5AUA0_Project_Group12_Team1/Github_Nadine_test/FairMOT/src\n"
          ],
          "name": "stdout"
        }
      ]
    },
    {
      "cell_type": "code",
      "metadata": {
        "id": "GklJkfLTvDr4",
        "colab_type": "code",
        "outputId": "90a01019-f426-4835-8c8c-c609dc4b70ae",
        "colab": {
          "base_uri": "https://localhost:8080/",
          "height": 1000
        }
      },
      "source": [
        "# FairMOT demo.py with HRNetV2_w18 baseline model:\n",
        "\n",
        "# then run the demo\n",
        "# !!!!! comment lines with 'dcn' in src/libs/models/model.py (6 lines at the top)\n",
        "!python demo.py mot --load_model ../models/all_hrnet_v2_w18.pth --arch hrnet_18 --reid_dim 128 --conf_thres 0.4"
      ],
      "execution_count": 0,
      "outputs": [
        {
          "output_type": "stream",
          "text": [
            "Fix size testing.\n",
            "training chunk_sizes: [6, 6]\n",
            "The output will be saved to  /content/gdrive/.shortcut-targets-by-id/10m49XUykzV-lqWDft1-stDmLxt5dixAS/5AUA0_Project_Group12_Team1/Github_Nadine_test/FairMOT/src/lib/../../exp/mot/default\n",
            "heads {'hm': 1, 'wh': 2, 'id': 128, 'reg': 2}\n",
            "2020-05-12 12:33:28 [INFO]: Starting tracking...\n",
            "Lenth of the video: 1500 frames\n",
            "Creating model...\n",
            "loaded ../models/all_hrnet_v2_w18.pth, epoch 60\n",
            "2020-05-12 12:33:53 [INFO]: Processing frame 0 (100000.00 fps)\n",
            "/usr/local/lib/python3.6/dist-packages/torch/nn/functional.py:2796: UserWarning: nn.functional.upsample is deprecated. Use nn.functional.interpolate instead.\n",
            "  warnings.warn(\"nn.functional.upsample is deprecated. Use nn.functional.interpolate instead.\")\n",
            "/usr/local/lib/python3.6/dist-packages/torch/nn/functional.py:2973: UserWarning: Default upsampling behavior when mode=bilinear is changed to align_corners=False since 0.4.0. Please specify align_corners=True if the old behavior is desired. See the documentation of nn.Upsample for details.\n",
            "  \"See the documentation of nn.Upsample for details.\".format(mode))\n",
            "/pytorch/aten/src/ATen/native/BinaryOps.cpp:81: UserWarning: Integer division of tensors using div or / is deprecated, and in a future release div will perform true division as in Python 3. Use true_divide or floor_divide (// in Python) instead.\n",
            "2020-05-12 12:34:13 [INFO]: Processing frame 20 (12.54 fps)\n",
            "2020-05-12 12:34:25 [INFO]: Processing frame 40 (13.79 fps)\n",
            "2020-05-12 12:34:34 [INFO]: Processing frame 60 (14.32 fps)\n",
            "2020-05-12 12:34:49 [INFO]: Processing frame 80 (14.53 fps)\n",
            "2020-05-12 12:34:59 [INFO]: Processing frame 100 (14.71 fps)\n",
            "2020-05-12 12:35:09 [INFO]: Processing frame 120 (14.82 fps)\n",
            "2020-05-12 12:35:17 [INFO]: Processing frame 140 (14.94 fps)\n",
            "2020-05-12 12:35:26 [INFO]: Processing frame 160 (15.00 fps)\n",
            "2020-05-12 12:35:36 [INFO]: Processing frame 180 (15.04 fps)\n",
            "2020-05-12 12:35:47 [INFO]: Processing frame 200 (15.07 fps)\n",
            "2020-05-12 12:35:57 [INFO]: Processing frame 220 (15.10 fps)\n",
            "2020-05-12 12:36:07 [INFO]: Processing frame 240 (15.13 fps)\n",
            "2020-05-12 12:36:17 [INFO]: Processing frame 260 (15.14 fps)\n",
            "2020-05-12 12:36:27 [INFO]: Processing frame 280 (15.17 fps)\n",
            "2020-05-12 12:36:37 [INFO]: Processing frame 300 (15.19 fps)\n",
            "2020-05-12 12:36:46 [INFO]: Processing frame 320 (15.20 fps)\n",
            "2020-05-12 12:36:56 [INFO]: Processing frame 340 (15.19 fps)\n",
            "2020-05-12 12:37:06 [INFO]: Processing frame 360 (15.19 fps)\n",
            "2020-05-12 12:37:16 [INFO]: Processing frame 380 (15.17 fps)\n",
            "2020-05-12 12:37:27 [INFO]: Processing frame 400 (15.16 fps)\n",
            "2020-05-12 12:37:37 [INFO]: Processing frame 420 (15.16 fps)\n",
            "2020-05-12 12:37:48 [INFO]: Processing frame 440 (15.14 fps)\n",
            "2020-05-12 12:37:56 [INFO]: Processing frame 460 (15.14 fps)\n",
            "2020-05-12 12:38:04 [INFO]: Processing frame 480 (15.15 fps)\n",
            "2020-05-12 12:38:10 [INFO]: Processing frame 500 (15.17 fps)\n",
            "2020-05-12 12:38:17 [INFO]: Processing frame 520 (15.20 fps)\n",
            "2020-05-12 12:38:24 [INFO]: Processing frame 540 (15.20 fps)\n",
            "2020-05-12 12:38:32 [INFO]: Processing frame 560 (15.22 fps)\n",
            "2020-05-12 12:38:38 [INFO]: Processing frame 580 (15.22 fps)\n",
            "2020-05-12 12:38:44 [INFO]: Processing frame 600 (15.23 fps)\n",
            "2020-05-12 12:38:50 [INFO]: Processing frame 620 (15.24 fps)\n",
            "2020-05-12 12:38:57 [INFO]: Processing frame 640 (15.25 fps)\n",
            "2020-05-12 12:39:04 [INFO]: Processing frame 660 (15.25 fps)\n",
            "2020-05-12 12:39:13 [INFO]: Processing frame 680 (15.26 fps)\n",
            "2020-05-12 12:39:21 [INFO]: Processing frame 700 (15.26 fps)\n",
            "2020-05-12 12:39:29 [INFO]: Processing frame 720 (15.27 fps)\n",
            "2020-05-12 12:39:37 [INFO]: Processing frame 740 (15.27 fps)\n",
            "2020-05-12 12:39:44 [INFO]: Processing frame 760 (15.26 fps)\n",
            "2020-05-12 12:39:50 [INFO]: Processing frame 780 (15.26 fps)\n",
            "2020-05-12 12:39:55 [INFO]: Processing frame 800 (15.26 fps)\n",
            "2020-05-12 12:40:02 [INFO]: Processing frame 820 (15.27 fps)\n",
            "2020-05-12 12:40:08 [INFO]: Processing frame 840 (15.27 fps)\n",
            "2020-05-12 12:40:15 [INFO]: Processing frame 860 (15.26 fps)\n",
            "2020-05-12 12:40:22 [INFO]: Processing frame 880 (15.25 fps)\n",
            "2020-05-12 12:40:30 [INFO]: Processing frame 900 (15.24 fps)\n",
            "2020-05-12 12:40:39 [INFO]: Processing frame 920 (15.24 fps)\n",
            "2020-05-12 12:40:46 [INFO]: Processing frame 940 (15.24 fps)\n",
            "2020-05-12 12:40:54 [INFO]: Processing frame 960 (15.25 fps)\n",
            "2020-05-12 12:41:01 [INFO]: Processing frame 980 (15.26 fps)\n",
            "2020-05-12 12:41:08 [INFO]: Processing frame 1000 (15.26 fps)\n",
            "2020-05-12 12:41:17 [INFO]: Processing frame 1020 (15.26 fps)\n",
            "2020-05-12 12:41:24 [INFO]: Processing frame 1040 (15.26 fps)\n",
            "2020-05-12 12:41:32 [INFO]: Processing frame 1060 (15.27 fps)\n",
            "2020-05-12 12:41:38 [INFO]: Processing frame 1080 (15.27 fps)\n",
            "2020-05-12 12:41:43 [INFO]: Processing frame 1100 (15.28 fps)\n",
            "2020-05-12 12:41:49 [INFO]: Processing frame 1120 (15.29 fps)\n",
            "2020-05-12 12:41:56 [INFO]: Processing frame 1140 (15.31 fps)\n",
            "2020-05-12 12:42:03 [INFO]: Processing frame 1160 (15.32 fps)\n",
            "2020-05-12 12:42:09 [INFO]: Processing frame 1180 (15.33 fps)\n",
            "2020-05-12 12:42:14 [INFO]: Processing frame 1200 (15.34 fps)\n",
            "2020-05-12 12:42:24 [INFO]: Processing frame 1220 (15.34 fps)\n",
            "2020-05-12 12:42:35 [INFO]: Processing frame 1240 (15.36 fps)\n",
            "2020-05-12 12:42:45 [INFO]: Processing frame 1260 (15.37 fps)\n",
            "2020-05-12 12:42:56 [INFO]: Processing frame 1280 (15.37 fps)\n",
            "2020-05-12 12:43:05 [INFO]: Processing frame 1300 (15.37 fps)\n",
            "2020-05-12 12:43:15 [INFO]: Processing frame 1320 (15.37 fps)\n",
            "2020-05-12 12:43:24 [INFO]: Processing frame 1340 (15.38 fps)\n",
            "2020-05-12 12:43:34 [INFO]: Processing frame 1360 (15.38 fps)\n",
            "2020-05-12 12:43:44 [INFO]: Processing frame 1380 (15.38 fps)\n",
            "2020-05-12 12:43:53 [INFO]: Processing frame 1400 (15.38 fps)\n",
            "2020-05-12 12:44:05 [INFO]: Processing frame 1420 (15.38 fps)\n",
            "2020-05-12 12:44:14 [INFO]: Processing frame 1440 (15.38 fps)\n",
            "2020-05-12 12:44:23 [INFO]: Processing frame 1460 (15.39 fps)\n",
            "2020-05-12 12:44:33 [INFO]: Processing frame 1480 (15.39 fps)\n",
            "2020-05-12 12:44:44 [INFO]: save results to ../results/results.txt\n",
            "ffmpeg version 3.4.6-0ubuntu0.18.04.1 Copyright (c) 2000-2019 the FFmpeg developers\n",
            "  built with gcc 7 (Ubuntu 7.3.0-16ubuntu3)\n",
            "  configuration: --prefix=/usr --extra-version=0ubuntu0.18.04.1 --toolchain=hardened --libdir=/usr/lib/x86_64-linux-gnu --incdir=/usr/include/x86_64-linux-gnu --enable-gpl --disable-stripping --enable-avresample --enable-avisynth --enable-gnutls --enable-ladspa --enable-libass --enable-libbluray --enable-libbs2b --enable-libcaca --enable-libcdio --enable-libflite --enable-libfontconfig --enable-libfreetype --enable-libfribidi --enable-libgme --enable-libgsm --enable-libmp3lame --enable-libmysofa --enable-libopenjpeg --enable-libopenmpt --enable-libopus --enable-libpulse --enable-librubberband --enable-librsvg --enable-libshine --enable-libsnappy --enable-libsoxr --enable-libspeex --enable-libssh --enable-libtheora --enable-libtwolame --enable-libvorbis --enable-libvpx --enable-libwavpack --enable-libwebp --enable-libx265 --enable-libxml2 --enable-libxvid --enable-libzmq --enable-libzvbi --enable-omx --enable-openal --enable-opengl --enable-sdl2 --enable-libdc1394 --enable-libdrm --enable-libiec61883 --enable-chromaprint --enable-frei0r --enable-libopencv --enable-libx264 --enable-shared\n",
            "  libavutil      55. 78.100 / 55. 78.100\n",
            "  libavcodec     57.107.100 / 57.107.100\n",
            "  libavformat    57. 83.100 / 57. 83.100\n",
            "  libavdevice    57. 10.100 / 57. 10.100\n",
            "  libavfilter     6.107.100 /  6.107.100\n",
            "  libavresample   3.  7.  0 /  3.  7.  0\n",
            "  libswscale      4.  8.100 /  4.  8.100\n",
            "  libswresample   2.  9.100 /  2.  9.100\n",
            "  libpostproc    54.  7.100 / 54.  7.100\n",
            "Input #0, image2, from '../results/frame/%05d.jpg':\n",
            "  Duration: 00:01:00.00, start: 0.000000, bitrate: N/A\n",
            "    Stream #0:0: Video: mjpeg, yuvj420p(pc, bt470bg/unknown/unknown), 1920x1080 [SAR 1:1 DAR 16:9], 25 fps, 25 tbr, 25 tbn, 25 tbc\n",
            "\u001b[0;33mPlease use -b:a or -b:v, -b is ambiguous\n",
            "\u001b[0mFile '../results/result.mp4' already exists. Overwrite ? [y/N] y\n",
            "Stream mapping:\n",
            "  Stream #0:0 -> #0:0 (mjpeg (native) -> mpeg4 (native))\n",
            "Press [q] to stop, [?] for help\n",
            "\u001b[1;34m[swscaler @ 0x55a26a4b8000] \u001b[0m\u001b[0;33mdeprecated pixel format used, make sure you did set range correctly\n",
            "\u001b[0mOutput #0, mp4, to '../results/result.mp4':\n",
            "  Metadata:\n",
            "    encoder         : Lavf57.83.100\n",
            "    Stream #0:0: Video: mpeg4 (mp4v / 0x7634706D), yuv420p, 1920x1080 [SAR 1:1 DAR 16:9], q=2-31, 5000 kb/s, 25 fps, 12800 tbn, 25 tbc\n",
            "    Metadata:\n",
            "      encoder         : Lavc57.107.100 mpeg4\n",
            "    Side data:\n",
            "      cpb: bitrate max/min/avg: 0/0/5000000 buffer size: 0 vbv_delay: -1\n",
            "frame=  916 fps= 42 q=13.7 Lsize=   22564kB time=00:00:36.60 bitrate=5050.5kbits/s speed=1.67x    \n",
            "video:22559kB audio:0kB subtitle:0kB other streams:0kB global headers:0kB muxing overhead: 0.022502%\n"
          ],
          "name": "stdout"
        }
      ]
    },
    {
      "cell_type": "markdown",
      "metadata": {
        "id": "YVvuJpzag-rd",
        "colab_type": "text"
      },
      "source": [
        "# Training the network"
      ]
    },
    {
      "cell_type": "code",
      "metadata": {
        "id": "BSfF0tuKg-KP",
        "colab_type": "code",
        "colab": {}
      },
      "source": [
        ""
      ],
      "execution_count": 0,
      "outputs": []
    }
  ]
}