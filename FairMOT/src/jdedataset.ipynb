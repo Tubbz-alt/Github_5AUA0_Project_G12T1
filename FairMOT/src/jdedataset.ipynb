{
 "cells": [
  {
   "cell_type": "code",
   "execution_count": 1,
   "metadata": {
    "ExecuteTime": {
     "end_time": "2020-06-12T13:47:06.054837Z",
     "start_time": "2020-06-12T13:47:06.052115Z"
    }
   },
   "outputs": [],
   "source": [
    "import _init_paths"
   ]
  },
  {
   "cell_type": "code",
   "execution_count": 2,
   "metadata": {
    "ExecuteTime": {
     "end_time": "2020-06-12T13:47:06.352246Z",
     "start_time": "2020-06-12T13:47:06.057896Z"
    }
   },
   "outputs": [
    {
     "data": {
      "text/plain": [
       "<module 'datasets.dataset.jde' from '/workspace/Github_5AUA0_Project_G12T1/FairMOT/src/lib/datasets/dataset/jde.py'>"
      ]
     },
     "execution_count": 2,
     "metadata": {},
     "output_type": "execute_result"
    }
   ],
   "source": [
    "import datasets.dataset.jde as JDE\n",
    "from datasets.dataset.jde import JointDataset\n",
    "import torch\n",
    "import torch.utils.data\n",
    "from torchvision.transforms import transforms as T\n",
    "from models.model import create_model, load_model, save_model\n",
    "import importlib\n",
    "importlib.reload(JDE)"
   ]
  },
  {
   "cell_type": "code",
   "execution_count": 3,
   "metadata": {
    "ExecuteTime": {
     "end_time": "2020-06-12T13:47:06.356353Z",
     "start_time": "2020-06-12T13:47:06.353259Z"
    }
   },
   "outputs": [
    {
     "name": "stdout",
     "output_type": "stream",
     "text": [
      "['/opt/conda/envs/dcnv2/lib/python3.8/site-packages/ipykernel_launcher.py', 'mot']\n"
     ]
    }
   ],
   "source": [
    "from opts import opts\n",
    "import sys\n",
    "sys.argv = ['/opt/conda/envs/dcnv2/lib/python3.8/site-packages/ipykernel_launcher.py', 'mot']\n",
    "print(sys.argv)\n",
    "sys.argv.append('--batch_size')\n",
    "sys.argv.append('1')\n",
    "sys.argv.append('--arch')\n",
    "sys.argv.append('hrnet_18')"
   ]
  },
  {
   "cell_type": "code",
   "execution_count": 4,
   "metadata": {
    "ExecuteTime": {
     "end_time": "2020-06-12T13:47:06.365652Z",
     "start_time": "2020-06-12T13:47:06.357436Z"
    }
   },
   "outputs": [
    {
     "name": "stdout",
     "output_type": "stream",
     "text": [
      "Fix size testing.\n",
      "training chunk_sizes: [0, 1]\n",
      "The output will be saved to  /workspace/Github_5AUA0_Project_G12T1/FairMOT/src/lib/../../exp/mot/default\n"
     ]
    }
   ],
   "source": [
    "opt = opts().parse(args='')"
   ]
  },
  {
   "cell_type": "markdown",
   "metadata": {},
   "source": [
    "## load dataset"
   ]
  },
  {
   "cell_type": "code",
   "execution_count": 5,
   "metadata": {
    "ExecuteTime": {
     "end_time": "2020-06-12T13:47:07.220922Z",
     "start_time": "2020-06-12T13:47:06.366841Z"
    }
   },
   "outputs": [
    {
     "name": "stdout",
     "output_type": "stream",
     "text": [
      "================================================================================\n",
      "dataset summary\n",
      "OrderedDict([('mot17', 547.0)])\n",
      "total # identities: 548\n",
      "start index\n",
      "OrderedDict([('mot17', 0)])\n",
      "================================================================================\n",
      "heads {'hm': 1, 'wh': 2, 'id': 512, 'reg': 2}\n"
     ]
    }
   ],
   "source": [
    "trainset_paths = {\"mot17\": \"./data/mot17.training\"}\n",
    "dataset_root = '/workspace/datasets/'\n",
    "transforms = T.Compose([T.ToTensor()])\n",
    "dataset = JointDataset(\n",
    "    opt, dataset_root, trainset_paths, (1088, 608), augment=True, transforms=transforms\n",
    ")\n",
    "opt = opts().update_dataset_info_and_set_heads(opt, dataset)"
   ]
  },
  {
   "cell_type": "code",
   "execution_count": 6,
   "metadata": {
    "ExecuteTime": {
     "end_time": "2020-06-12T13:47:07.224094Z",
     "start_time": "2020-06-12T13:47:07.221890Z"
    }
   },
   "outputs": [],
   "source": [
    "  train_loader = torch.utils.data.DataLoader(\n",
    "        dataset,\n",
    "        batch_size=opt.batch_size,\n",
    "        shuffle=True,\n",
    "        num_workers=opt.num_workers,\n",
    "        pin_memory=True,\n",
    "        drop_last=True,\n",
    "    )"
   ]
  },
  {
   "cell_type": "markdown",
   "metadata": {},
   "source": [
    "## load model"
   ]
  },
  {
   "cell_type": "code",
   "execution_count": 7,
   "metadata": {
    "ExecuteTime": {
     "end_time": "2020-06-12T13:47:07.663910Z",
     "start_time": "2020-06-12T13:47:07.224919Z"
    }
   },
   "outputs": [
    {
     "name": "stdout",
     "output_type": "stream",
     "text": [
      "{'hm': 1, 'wh': 2, 'id': 512, 'reg': 2}\n"
     ]
    }
   ],
   "source": [
    "model = create_model(opt.arch, opt.heads, opt.head_conv)"
   ]
  },
  {
   "cell_type": "code",
   "execution_count": 8,
   "metadata": {
    "ExecuteTime": {
     "end_time": "2020-06-12T13:47:07.670036Z",
     "start_time": "2020-06-12T13:47:07.664967Z"
    }
   },
   "outputs": [],
   "source": [
    "start_epoch = 0\n",
    "optimizer = torch.optim.Adam(model.parameters(), opt.lr)\n",
    "if opt.load_model != \"\":\n",
    "    model, optimizer, start_epoch = load_model(\n",
    "        model, opt.load_model, optimizer, opt.resume, opt.lr, opt.lr_step\n",
    "    )\n"
   ]
  },
  {
   "cell_type": "code",
   "execution_count": null,
   "metadata": {},
   "outputs": [],
   "source": []
  },
  {
   "cell_type": "code",
   "execution_count": null,
   "metadata": {},
   "outputs": [],
   "source": []
  },
  {
   "cell_type": "markdown",
   "metadata": {},
   "source": [
    "## visualize model outputs and ground truth\n",
    "model expects dict as input with following keys:\n",
    "\n",
    "* input augmented image\n",
    "* hm: heatmap that is generated from gaussian kernel using ground truth\n",
    "* reg_mask: image prediction takes at max K objects which is zero filled, this mask either 1 or 0 depending if annotation was used at index \n",
    "* ind: integer index of image using  int(y)*w_output + int(x)\n",
    "* wh: width height object\n",
    "* reg:  width height offset, float(x,y) - int(x,y)\n",
    "* ids: track id"
   ]
  },
  {
   "cell_type": "code",
   "execution_count": 9,
   "metadata": {
    "ExecuteTime": {
     "end_time": "2020-06-12T13:47:07.675390Z",
     "start_time": "2020-06-12T13:47:07.671631Z"
    }
   },
   "outputs": [
    {
     "name": "stdout",
     "output_type": "stream",
     "text": [
      "1\n"
     ]
    }
   ],
   "source": [
    "print(opt.batch_size)\n",
    "import matplotlib.pyplot as plt\n",
    "import matplotlib.patches as patches\n",
    "from matplotlib.collections import PatchCollection\n",
    "plt.rcParams[\"figure.figsize\"] = (10,10) #nice big plots\n",
    "import numpy as np\n",
    "from torchvision.transforms import ToPILImage"
   ]
  },
  {
   "cell_type": "code",
   "execution_count": 10,
   "metadata": {
    "ExecuteTime": {
     "end_time": "2020-06-12T13:47:07.680158Z",
     "start_time": "2020-06-12T13:47:07.676885Z"
    }
   },
   "outputs": [],
   "source": [
    "def indtoxy(ind, ratio=4, input_w=1088, input_h=608):\n",
    "    if ind != 0:\n",
    "        w_out, h_out = divmod(ind,input_w//ratio)\n",
    "        #print(f\"out: ({w_out},{h_out})\")\n",
    "        return w_out*ratio, h_out*ratio\n",
    "    else:\n",
    "        return None"
   ]
  },
  {
   "cell_type": "code",
   "execution_count": 11,
   "metadata": {
    "ExecuteTime": {
     "end_time": "2020-06-12T13:47:07.684884Z",
     "start_time": "2020-06-12T13:47:07.681265Z"
    }
   },
   "outputs": [],
   "source": [
    "def wh_decode(wh_tensor, ratio=4):\n",
    "    wh_numpy = wh_tensor.cpu().numpy()\n",
    "    wh_numpy_decode = np.rint(ratio*wh_numpy)\n",
    "    return wh_numpy_decode[0], wh_numpy_decode[1]"
   ]
  },
  {
   "cell_type": "code",
   "execution_count": 16,
   "metadata": {
    "ExecuteTime": {
     "end_time": "2020-06-12T13:51:30.852290Z",
     "start_time": "2020-06-12T13:51:29.740533Z"
    },
    "scrolled": false
   },
   "outputs": [
    {
     "name": "stdout",
     "output_type": "stream",
     "text": [
      "0\n",
      "dict_keys(['input', 'hm', 'reg_mask', 'ind', 'wh', 'reg', 'ids'])\n",
      "tensor([ 6.2953, 13.2381])\n",
      "x: 532, y: 216\n",
      "w: 25.0, h: 53.0\n",
      "x_plt: 519.5, y_plt: 189.5\n",
      "tensor([ 4.5550, 10.1345])\n",
      "x: 568, y: 212\n",
      "w: 18.0, h: 41.0\n",
      "x_plt: 559.0, y_plt: 191.5\n",
      "tensor([3.7677, 9.5477])\n",
      "x: 592, y: 212\n",
      "w: 15.0, h: 38.0\n",
      "x_plt: 584.5, y_plt: 193.0\n",
      "tensor([18.0726, 45.6806])\n",
      "x: 272, y: 244\n",
      "w: 72.0, h: 183.0\n",
      "x_plt: 236.0, y_plt: 152.5\n",
      "tensor([ 9.8311, 19.2294])\n",
      "x: 808, y: 248\n",
      "w: 39.0, h: 77.0\n",
      "x_plt: 788.5, y_plt: 209.5\n",
      "tensor([ 6.3968, 11.8479])\n",
      "x: 652, y: 224\n",
      "w: 26.0, h: 47.0\n",
      "x_plt: 639.0, y_plt: 200.5\n",
      "tensor([3.8716, 9.0415])\n",
      "x: 572, y: 212\n",
      "w: 15.0, h: 36.0\n",
      "x_plt: 564.5, y_plt: 194.0\n",
      "tensor([ 7.5559, 15.0463])\n",
      "x: 832, y: 256\n",
      "w: 30.0, h: 60.0\n",
      "x_plt: 817.0, y_plt: 226.0\n",
      "tensor([2.8106, 7.8407])\n",
      "x: 560, y: 208\n",
      "w: 11.0, h: 31.0\n",
      "x_plt: 554.5, y_plt: 192.5\n",
      "tensor([ 4.4744, 10.0535])\n",
      "x: 732, y: 232\n",
      "w: 18.0, h: 40.0\n",
      "x_plt: 723.0, y_plt: 212.0\n",
      "tensor([ 5.3363, 13.2250])\n",
      "x: 504, y: 208\n",
      "w: 21.0, h: 53.0\n",
      "x_plt: 493.5, y_plt: 181.5\n",
      "tensor([3.1906, 8.8326])\n",
      "x: 536, y: 208\n",
      "w: 13.0, h: 35.0\n",
      "x_plt: 529.5, y_plt: 190.5\n",
      "tensor([3.1882, 7.9485])\n",
      "x: 676, y: 220\n",
      "w: 13.0, h: 32.0\n",
      "x_plt: 669.5, y_plt: 204.0\n",
      "tensor([2.5473, 6.4911])\n",
      "x: 684, y: 220\n",
      "w: 10.0, h: 26.0\n",
      "x_plt: 679.0, y_plt: 207.0\n",
      "tensor([3.1077, 7.8676])\n",
      "x: 660, y: 220\n",
      "w: 12.0, h: 31.0\n",
      "x_plt: 654.0, y_plt: 204.5\n",
      "tensor([2.6784, 4.5880])\n",
      "x: 672, y: 216\n",
      "w: 11.0, h: 18.0\n",
      "x_plt: 666.5, y_plt: 207.0\n",
      "tensor([2.2967, 5.2900])\n",
      "x: 588, y: 204\n",
      "w: 9.0, h: 21.0\n",
      "x_plt: 583.5, y_plt: 193.5\n",
      "tensor([1.9868, 5.1146])\n",
      "x: 780, y: 228\n",
      "w: 8.0, h: 20.0\n",
      "x_plt: 776.0, y_plt: 218.0\n",
      "tensor([3.1013, 7.7933])\n",
      "x: 764, y: 232\n",
      "w: 12.0, h: 31.0\n",
      "x_plt: 758.0, y_plt: 216.5\n",
      "tensor([2.1162, 4.9053])\n",
      "x: 764, y: 228\n",
      "w: 8.0, h: 20.0\n",
      "x_plt: 760.0, y_plt: 218.0\n",
      "tensor([2.1882, 4.0280])\n",
      "x: 668, y: 216\n",
      "w: 9.0, h: 16.0\n",
      "x_plt: 663.5, y_plt: 208.0\n",
      "torch.Size([1, 1, 152, 272])\n"
     ]
    },
    {
     "data": {
      "image/png": "[encoded data removed]",
      "text/plain": [
       "<Figure size 720x720 with 2 Axes>"
      ]
     },
     "metadata": {
      "needs_background": "light"
     },
     "output_type": "display_data"
    }
   ],
   "source": [
    "for iter_id, batch in enumerate(train_loader):\n",
    "    print(iter_id)\n",
    "\n",
    "\n",
    "    print(batch.keys())\n",
    "    img_tensor = batch['input'][0,:,:,:] \n",
    "    #img  = batch['input'][0,:,:,:].cpu().numpy().reshape(608,1088,3)\n",
    "    to_pil = ToPILImage()\n",
    "    img_pil = to_pil(img_tensor)\n",
    "    img_np =  np.array(img_pil)\n",
    "\n",
    "\n",
    "    patcheslist = []\n",
    "    #plot bounding boxes\n",
    "    for i in range(128):\n",
    "        if batch['reg_mask'][0,i].cpu().numpy():\n",
    "            y,x = indtoxy(batch['ind'][0,i].cpu().numpy())\n",
    "            print(batch['wh'][0,i])\n",
    "            w,h = wh_decode(batch['wh'][0,i])\n",
    "            #print(batch['ind'][0,i])\n",
    "            #print(indtoxy(batch['ind'][0,i].cpu().numpy()))\n",
    "            #w, h = indtoxy(batch['ind'][0,i].cpu().numpy())\n",
    "            print(f\"x: {x}, y: {y}\")\n",
    "            print(f\"w: {w}, h: {h}\")\n",
    "            x_plt = x - 0.5*w   # left coordinate\n",
    "            y_plt = y - 0.5*h # bottom coordinate\n",
    "            print(f\"x_plt: {x_plt}, y_plt: {y_plt}\")\n",
    "            patcheslist.append(patches.Rectangle((x_plt,y_plt),w,h,linewidth=1,edgecolor='r',facecolor='none'))\n",
    "\n",
    "\n",
    "    # Create figure and axes\n",
    "    fig, (ax1,ax2) = plt.subplots(2)\n",
    "\n",
    "    colors = 100*np.random.rand(len(patcheslist))\n",
    "    p = PatchCollection(patcheslist, alpha=0.4)\n",
    "    p.set_array(np.array(colors))\n",
    "    ax1.add_collection(p)\n",
    "\n",
    "\n",
    "    # Display the image\n",
    "    ax1.imshow(img_np)\n",
    "\n",
    "    # Create a Rectangle patch\n",
    "    #rect = patches.Rectangle((50,100),40,30,linewidth=1,edgecolor='r',facecolor='none')\n",
    "\n",
    "    # Add the patch to the Axes\n",
    "    #ax1.add_patch(rect)\n",
    "    print(batch['hm'].shape)\n",
    "    ax2.imshow(batch['hm'][0,0,:,:])\n",
    "    plt.show()\n",
    "    break\n",
    "\n",
    " "
   ]
  },
  {
   "cell_type": "code",
   "execution_count": null,
   "metadata": {},
   "outputs": [],
   "source": []
  },
  {
   "cell_type": "code",
   "execution_count": null,
   "metadata": {},
   "outputs": [],
   "source": []
  }
 ],
 "metadata": {
  "kernelspec": {
   "display_name": "dcnv2",
   "language": "python",
   "name": "dcnv2"
  },
  "language_info": {
   "codemirror_mode": {
    "name": "ipython",
    "version": 3
   },
   "file_extension": ".py",
   "mimetype": "text/x-python",
   "name": "python",
   "nbconvert_exporter": "python",
   "pygments_lexer": "ipython3",
   "version": "3.8.3"
  },
  "toc": {
   "base_numbering": 1,
   "nav_menu": {},
   "number_sections": true,
   "sideBar": true,
   "skip_h1_title": false,
   "title_cell": "Table of Contents",
   "title_sidebar": "Contents",
   "toc_cell": false,
   "toc_position": {},
   "toc_section_display": true,
   "toc_window_display": false
  },
  "varInspector": {
   "cols": {
    "lenName": 16,
    "lenType": 16,
    "lenVar": 40
   },
   "kernels_config": {
    "python": {
     "delete_cmd_postfix": "",
     "delete_cmd_prefix": "del ",
     "library": "var_list.py",
     "varRefreshCmd": "print(var_dic_list())"
    },
    "r": {
     "delete_cmd_postfix": ") ",
     "delete_cmd_prefix": "rm(",
     "library": "var_list.r",
     "varRefreshCmd": "cat(var_dic_list()) "
    }
   },
   "types_to_exclude": [
    "module",
    "function",
    "builtin_function_or_method",
    "instance",
    "_Feature"
   ],
   "window_display": false
  }
 },
 "nbformat": 4,
 "nbformat_minor": 2
}
